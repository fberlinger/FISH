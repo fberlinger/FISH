{
 "cells": [
  {
   "cell_type": "markdown",
   "metadata": {},
   "source": [
    "# Experiment: Cohesion\n",
    "To goal of cohesion is to maintain a cohesive collective whose network structure is neither too dense nor too sparse."
   ]
  },
  {
   "cell_type": "code",
   "execution_count": 5,
   "metadata": {},
   "outputs": [
    {
     "name": "stdout",
     "output_type": "stream",
     "text": [
      "The autoreload extension is already loaded. To reload it, use:\n",
      "  %reload_ext autoreload\n"
     ]
    }
   ],
   "source": [
    "%load_ext autoreload\n",
    "%autoreload 2\n",
    "%matplotlib inline\n",
    "\n",
    "import matplotlib\n",
    "\n",
    "matplotlib.rcParams['figure.figsize'] = [12, 8]\n",
    "\n",
    "import math\n",
    "import numpy as np\n",
    "\n",
    "from interaction import Interaction\n",
    "from environment import Environment\n",
    "from fish import Fish\n",
    "from channel import Channel\n",
    "from observer import Observer\n",
    "\n",
    "from utils import generate_distortion, generate_fish, run_simulation"
   ]
  },
  {
   "cell_type": "markdown",
   "metadata": {},
   "source": [
    "### Dispersion\n",
    "All robots start in the same place and have too many neighbors. They disperse to decrease their number of neighbors."
   ]
  },
  {
   "cell_type": "code",
   "execution_count": 6,
   "metadata": {
    "scrolled": false
   },
   "outputs": [
    {
     "name": "stdout",
     "output_type": "stream",
     "text": [
      "Please wait patiently 30 seconds. Thanks.\n"
     ]
    }
   ],
   "source": [
    "run_time = 30 # in seconds\n",
    "num_fish = 20\n",
    "arena_size = 30\n",
    "arena_center = arena_size / 2.0\n",
    "initial_spread = 1\n",
    "fish_pos = initial_spread * np.random.rand(num_fish, 2) + arena_center - initial_spread / 2.0\n",
    "clock_freqs = 1\n",
    "verbose = False\n",
    "\n",
    "distortion = generate_distortion(type='none', n=arena_size)\n",
    "environment = Environment(\n",
    "    node_pos=fish_pos,\n",
    "    distortion=distortion,\n",
    "    prob_type='binary',\n",
    "    noise_magnitude=0,\n",
    "    conn_thres=6,\n",
    "    verbose=verbose\n",
    ")\n",
    "interaction = Interaction(environment, verbose=verbose)\n",
    "channel = Channel(environment)\n",
    "\n",
    "fish = generate_fish(\n",
    "    n=num_fish, \n",
    "    channel=channel, \n",
    "    interaction=interaction, \n",
    "    lim_neighbors=[2,3],\n",
    "    neighbor_weights=1.0,\n",
    "    fish_max_speeds=1,\n",
    "    clock_freqs=clock_freqs,\n",
    "    verbose=verbose\n",
    ")\n",
    "channel.set_nodes(fish)\n",
    "\n",
    "observer = Observer(fish=fish, environment=environment, channel=channel)\n",
    "run_simulation(fish=fish, observer=observer, run_time=run_time, dark=True, white_axis=False, no_legend=True)"
   ]
  },
  {
   "cell_type": "markdown",
   "metadata": {},
   "source": [
    "### Aggregation in a counterclockwise curl\n",
    "They robots start spread out and have too few neighbors. They aggregate to increase their number of neighbors. While doing so, they are affacted by a distortion of the type of a counterclockwise curl."
   ]
  },
  {
   "cell_type": "code",
   "execution_count": 7,
   "metadata": {
    "scrolled": false
   },
   "outputs": [
    {
     "name": "stdout",
     "output_type": "stream",
     "text": [
      "Please wait patiently 20 seconds. Thanks.\n"
     ]
    }
   ],
   "source": [
    "run_time = 20 # in seconds\n",
    "num_fish = 50\n",
    "arena_size = 30\n",
    "arena_center = arena_size / 2.0\n",
    "initial_spread = 25\n",
    "fish_pos = initial_spread * np.random.rand(num_fish, 2) + arena_center - initial_spread / 2.0\n",
    "clock_freqs = 1\n",
    "verbose = False\n",
    "\n",
    "distortion = generate_distortion(type='curl', n=arena_size)\n",
    "environment = Environment(\n",
    "    node_pos=fish_pos,\n",
    "    distortion=distortion,\n",
    "    prob_type='binary',\n",
    "    noise_magnitude=0,\n",
    "    conn_thres=10,\n",
    "    verbose=verbose\n",
    ")\n",
    "interaction = Interaction(environment, verbose=verbose)\n",
    "channel = Channel(environment)\n",
    "\n",
    "fish = generate_fish(\n",
    "    n=num_fish, \n",
    "    channel=channel, \n",
    "    interaction=interaction, \n",
    "    lim_neighbors=[math.inf,math.inf],\n",
    "    neighbor_weights=1.0,\n",
    "    fish_max_speeds=1,\n",
    "    clock_freqs=clock_freqs,\n",
    "    verbose=verbose\n",
    ")\n",
    "channel.set_nodes(fish)\n",
    "\n",
    "observer = Observer(fish=fish, environment=environment, channel=channel)\n",
    "run_simulation(fish=fish, observer=observer, run_time=run_time, dark=True, white_axis=False, no_legend=True)"
   ]
  },
  {
   "cell_type": "markdown",
   "metadata": {},
   "source": [
    "### Aggregation and migration\n",
    "The robots start dispersed and gather first to then migrate from left to right. This is similar to salmons who come from different places in the ocean and then swim up their rivers of origin for reproduction."
   ]
  },
  {
   "cell_type": "code",
   "execution_count": 8,
   "metadata": {
    "scrolled": false
   },
   "outputs": [
    {
     "name": "stdout",
     "output_type": "stream",
     "text": [
      "Please wait patiently 20 seconds. Thanks.\n"
     ]
    }
   ],
   "source": [
    "from events import Move\n",
    "\n",
    "run_time = 20 # in seconds\n",
    "num_fish = 25\n",
    "arena_size = 30\n",
    "arena_center = arena_size / 2.0\n",
    "initial_spread = 10\n",
    "fish_pos = np.zeros((num_fish,2))\n",
    "fish_pos[:,0] = np.random.rand(num_fish) * initial_spread\n",
    "fish_pos[:,1] = np.random.rand(num_fish) * initial_spread + arena_center - initial_spread/2\n",
    "clock_freqs = 1\n",
    "verbose = False\n",
    "\n",
    "distortion = generate_distortion(type='none', n=arena_size)\n",
    "environment = Environment(\n",
    "    node_pos=fish_pos,\n",
    "    distortion=distortion,\n",
    "    prob_type='binary',\n",
    "    noise_magnitude=0.2,\n",
    "    conn_thres=10,\n",
    "    verbose=verbose\n",
    ")\n",
    "interaction = Interaction(environment, verbose=verbose)\n",
    "channel = Channel(environment)\n",
    "\n",
    "fish = generate_fish(\n",
    "    n=num_fish, \n",
    "    channel=channel, \n",
    "    interaction=interaction, \n",
    "    lim_neighbors=[math.inf,math.inf],\n",
    "    neighbor_weights=1.0,\n",
    "    fish_max_speeds=1,\n",
    "    clock_freqs=clock_freqs,\n",
    "    verbose=verbose\n",
    ")\n",
    "channel.set_nodes(fish)\n",
    "\n",
    "observer = Observer(fish=fish, environment=environment, channel=channel)\n",
    "\n",
    "migrate = Move(1,0)\n",
    "observer.instruct(event=migrate, rel_clock=0, fish_all=True)\n",
    "\n",
    "run_simulation(fish=fish, observer=observer, run_time=run_time, dark=True, white_axis=False, no_legend=True, no_star=True)"
   ]
  },
  {
   "cell_type": "code",
   "execution_count": null,
   "metadata": {},
   "outputs": [],
   "source": []
  }
 ],
 "metadata": {
  "kernelspec": {
   "display_name": "Python 3",
   "language": "python",
   "name": "python3"
  },
  "language_info": {
   "codemirror_mode": {
    "name": "ipython",
    "version": 3
   },
   "file_extension": ".py",
   "mimetype": "text/x-python",
   "name": "python",
   "nbconvert_exporter": "python",
   "pygments_lexer": "ipython3",
   "version": "3.7.0"
  }
 },
 "nbformat": 4,
 "nbformat_minor": 2
}
