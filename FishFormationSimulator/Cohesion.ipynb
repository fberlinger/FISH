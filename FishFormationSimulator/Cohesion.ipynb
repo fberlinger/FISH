{
 "cells": [
  {
   "cell_type": "markdown",
   "metadata": {},
   "source": [
    "# Experiment: Cohesion\n",
    "To goal of cohesion is to maintain a cohesive collective whose network structure is neither too dense nor too sparse."
   ]
  },
  {
   "cell_type": "code",
   "execution_count": 5,
   "metadata": {},
   "outputs": [
    {
     "name": "stdout",
     "output_type": "stream",
     "text": [
      "The autoreload extension is already loaded. To reload it, use:\n",
      "  %reload_ext autoreload\n"
     ]
    }
   ],
   "source": [
    "%load_ext autoreload\n",
    "%autoreload 2\n",
    "%matplotlib notebook\n",
    "import numpy as np\n",
    "import matplotlib.pyplot as plt\n",
    "\n",
    "\n",
    "from matplotlib import rc\n",
    "from IPython.display import HTML\n",
    "import matplotlib.animation as animation\n",
    "\n",
    "import math\n",
    "import numpy as np\n",
    "\n",
    "from interaction import Interaction\n",
    "from environment import Environment\n",
    "from fish import Fish\n",
    "from channel import Channel\n",
    "from observer import Observer\n",
    "import pandas as pd\n",
    "\n",
    "from scipy.spatial import distance\n",
    "from utils import generate_distortion, generate_fish, run_simulation"
   ]
  },
  {
   "cell_type": "markdown",
   "metadata": {},
   "source": [
    "### Dispersion\n",
    "All robots start in the same place and have too many neighbors. They disperse to decrease their number of neighbors."
   ]
  },
  {
   "cell_type": "code",
   "execution_count": null,
   "metadata": {
    "scrolled": true
   },
   "outputs": [
    {
     "name": "stdout",
     "output_type": "stream",
     "text": [
      "Please wait patiently 30 seconds. Thanks.\n"
     ]
    }
   ],
   "source": [
    "run_time = 30# in seconds\n",
    "num_fish = 10\n",
    "arena_size = 30\n",
    "arena_center = arena_size / 2.0\n",
    "initial_spread = 1\n",
    "fish_pos = initial_spread * np.random.rand(num_fish, 2) + arena_center - initial_spread / 2.0\n",
    "clock_freqs = 1\n",
    "verbose = False\n",
    "\n",
    "distortion = generate_distortion(type='none', n=arena_size)\n",
    "environment = Environment(\n",
    "    node_pos=fish_pos,\n",
    "    distortion=distortion,\n",
    "    prob_type='binary', \n",
    "    noise_magnitude=0,\n",
    "    conn_thres=6,\n",
    "    verbose=verbose\n",
    ")\n",
    "interaction = Interaction(environment, verbose=verbose)\n",
    "channel = Channel(environment)\n",
    "\n",
    "fish = generate_fish(\n",
    "    n=num_fish, \n",
    "    channel=channel, \n",
    "    interaction=interaction, \n",
    "    lim_neighbors=[2,8],\n",
    "    neighbor_weights=1.0,\n",
    "    fish_max_speeds=1,\n",
    "    clock_freqs=clock_freqs,\n",
    "    verbose=verbose\n",
    ")\n",
    "channel.set_nodes(fish) \n",
    "\n",
    "observer = Observer(fish=fish, environment=environment, channel=channel)\n",
    "run_simulation(fish=fish, observer=observer, run_time=run_time, dark=True, white_axis=False, no_legend=True)\n",
    "\n",
    "plt.ion()\n",
    "fig = plt.figure(1)\n",
    "ax = plt.axes(xlim=(10, 20), ylim=(10, 20))\n",
    "ax.set_xlabel('x')\n",
    "ax.set_ylabel('y')\n",
    "N = observer.num_nodes\n",
    "#fish = ax.plot( *([[], []]*N), marker=\">\",markersize =15,alpha = 1)\n",
    "fish = ax.plot( *([[], []]*N), marker=\">\",markersize =15,alpha = 1)\n",
    "\n",
    "def init():    \n",
    "    for line in fish:\n",
    "        line.set_data([4], [4])\n",
    "    return fish\n",
    "\n",
    "def animate(i):\n",
    "    for j in range(N): \n",
    "        fish[j].set_data(observer.x[j][:i],observer.y[j][:i])\n",
    "        fish[j].set_markersize(i)\n",
    "    return fish\n",
    "\n",
    "anim = animation.FuncAnimation(fig, animate, init_func=init,\n",
    "                       frames=10, interval=500, blit=True)\n",
    "plt.show()\n"
   ]
  },
  {
   "cell_type": "code",
   "execution_count": null,
   "metadata": {},
   "outputs": [],
   "source": [
    "neighbors= {1:np.array([-0.13265279,  0.02321057]), 2: np.array([-0.2005765 , -0.18300661]), \n",
    "            6: np.array([-0.12874934, -0.52024419]), 4: np.array([ 0.39604864, -0.45861362]), \n",
    "            5: np.array([-0.18143229,  0.00677317]), 7: np.array([ 0.08187928, -0.44985067]),\n",
    "            8: np.array([-0.15155937, -0.0875348 ]), 16: np.array([-0.01548467,  0.03539648]), \n",
    "            15: np.array([ 0.23504852, -0.08975046])}\n",
    "#change it to pandas for easier manipulation \n",
    "df = pd.DataFrame.from_dict(neighbors,orient = 'index', columns=['X', 'Y'])\n",
    "df['dist'] = np.sqrt( (df.X)**2 + (df.Y)**2)\n",
    "df['angles']= np.degrees(np.arcsin(df.Y/df.dist))\n",
    "print(df)\n",
    "df.sort_values(['dist'])\n",
    "i = df[(df['Y'] > 0 )& (df['X'] > 0)]\n",
    "ii = df[(df['Y'] > 0 )& (df['X'] < 0)]\n",
    "iii= df[(df['Y'] < 0) & (df['X'] < 0)]\n",
    "iv = df[(df['Y'] < 0) & (df['X'] > 0)]\n",
    "\n",
    "xr=xl=yl=yr =0.0\n",
    "step_size = 0.05\n",
    "quadrants = [i,ii,iii,iv]\n",
    "x = []\n",
    "y = []\n",
    "a = []\n",
    "for q in quadrants: \n",
    "    q.sort_values(['dist'])\n",
    "    if(len(q)>0):\n",
    "        x.append(q['X'].values[0]-d)\n",
    "        y.append(q['Y'].values[0]-d)\n",
    "        a.append(q['angles'].values[0])\n",
    "        #neig_clique.append([q['X'].values[0]-d,q['Y'].values[0]-d])\n",
    "    else:\n",
    "        x.append(float('-inf'))\n",
    "        y.append(float('-inf'))\n",
    "        a.append(float('-inf'))\n",
    "print(x,y,a)\n",
    "#function to ensure that the closest neighbors are getting even closer \n",
    "print(np.degrees(np.arcsin(1/np.sqrt(2))))\n",
    "#TODO\n",
    "#Function align \n",
    "#Function detect neighbors\n",
    "#Function limit\n",
    "#Function measure\n",
    "#"
   ]
  },
  {
   "cell_type": "markdown",
   "metadata": {},
   "source": [
    "### Aggregation in a counterclockwise curl\n",
    "They robots start spread out and have too few neighbors. They aggregate to increase their number of neighbors. While doing so, they are affacted by a distortion of the type of a counterclockwise curl."
   ]
  },
  {
   "cell_type": "code",
   "execution_count": null,
   "metadata": {
    "scrolled": false
   },
   "outputs": [],
   "source": [
    "run_time = 10 # in seconds\n",
    "num_fish = 50\n",
    "arena_size = 30\n",
    "arena_center = arena_size / 2.0\n",
    "initial_spread = 25\n",
    "fish_pos = initial_spread * np.random.rand(num_fish, 2) + arena_center - initial_spread / 2.0\n",
    "clock_freqs = 1\n",
    "verbose = False\n",
    "\n",
    "distortion = generate_distortion(type='curl', n=arena_size)\n",
    "environment = Environment(\n",
    "    node_pos=fish_pos,\n",
    "    distortion=distortion,\n",
    "    prob_type='binary',\n",
    "    noise_magnitude=0,\n",
    "    conn_thres=10,\n",
    "    verbose=verbose\n",
    ")\n",
    "interaction = Interaction(environment, verbose=verbose)\n",
    "channel = Channel(environment)\n",
    "\n",
    "fish = generate_fish(\n",
    "    n=num_fish, \n",
    "    channel=channel, \n",
    "    interaction=interaction, \n",
    "    lim_neighbors=[math.inf,math.inf],\n",
    "    neighbor_weights=1.0,\n",
    "    fish_max_speeds=1,\n",
    "    clock_freqs=clock_freqs,\n",
    "    verbose=verbose\n",
    ")\n",
    "channel.set_nodes(fish)\n",
    "\n",
    "observer = Observer(fish=fish, environment=environment, channel=channel)\n",
    "run_simulation(fish=fish, observer=observer, run_time=run_time, dark=True, white_axis=False, no_legend=True)"
   ]
  },
  {
   "cell_type": "markdown",
   "metadata": {},
   "source": [
    "### Aggregation and migration\n",
    "The robots start dispersed and gather first to then migrate from left to right. This is similar to salmons who come from different places in the ocean and then swim up their rivers of origin for reproduction."
   ]
  },
  {
   "cell_type": "code",
   "execution_count": null,
   "metadata": {
    "scrolled": false
   },
   "outputs": [],
   "source": [
    "from events import Move\n",
    "\n",
    "run_time = 20 # in seconds\n",
    "num_fish = 25\n",
    "arena_size = 30\n",
    "arena_center = arena_size / 2.0\n",
    "initial_spread = 10\n",
    "fish_pos = np.zeros((num_fish,2))\n",
    "fish_pos[:,0] = np.random.rand(num_fish) * initial_spread\n",
    "fish_pos[:,1] = np.random.rand(num_fish) * initial_spread + arena_center - initial_spread/2\n",
    "clock_freqs = 1\n",
    "verbose = False\n",
    "\n",
    "distortion = generate_distortion(type='none', n=arena_size)\n",
    "environment = Environment(\n",
    "    node_pos=fish_pos,\n",
    "    distortion=distortion,\n",
    "    prob_type='binary',\n",
    "    noise_magnitude=0.2,\n",
    "    conn_thres=10,\n",
    "    verbose=verbose\n",
    ")\n",
    "interaction = Interaction(environment, verbose=verbose)\n",
    "channel = Channel(environment)\n",
    "\n",
    "fish = generate_fish(\n",
    "    n=num_fish, \n",
    "    channel=channel, \n",
    "    interaction=interaction, \n",
    "    lim_neighbors=[math.inf,math.inf],\n",
    "    neighbor_weights=1.0,\n",
    "    fish_max_speeds=1,\n",
    "    clock_freqs=clock_freqs,\n",
    "    verbose=verbose\n",
    ")\n",
    "channel.set_nodes(fish)\n",
    "\n",
    "observer = Observer(fish=fish, environment=environment, channel=channel)\n",
    "\n",
    "migrate = Move(1,0)\n",
    "observer.instruct(event=migrate, rel_clock=0, fish_all=True)\n",
    "\n",
    "run_simulation(fish=fish, observer=observer, run_time=run_time, dark=True, white_axis=False, no_legend=True, no_star=True)"
   ]
  },
  {
   "cell_type": "code",
   "execution_count": null,
   "metadata": {},
   "outputs": [],
   "source": []
  }
 ],
 "metadata": {
  "kernelspec": {
   "display_name": "Python 3",
   "language": "python",
   "name": "python3"
  },
  "language_info": {
   "codemirror_mode": {
    "name": "ipython",
    "version": 3
   },
   "file_extension": ".py",
   "mimetype": "text/x-python",
   "name": "python",
   "nbconvert_exporter": "python",
   "pygments_lexer": "ipython3",
   "version": "3.6.4"
  }
 },
 "nbformat": 4,
 "nbformat_minor": 2
}
